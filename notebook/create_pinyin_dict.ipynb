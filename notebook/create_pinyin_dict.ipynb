{
 "cells": [
  {
   "cell_type": "code",
   "execution_count": 4,
   "metadata": {},
   "outputs": [
    {
     "name": "stdout",
     "output_type": "stream",
     "text": [
      "Collecting pypinyin\n",
      "  Downloading pypinyin-0.53.0-py2.py3-none-any.whl.metadata (12 kB)\n",
      "Downloading pypinyin-0.53.0-py2.py3-none-any.whl (834 kB)\n",
      "\u001b[2K   \u001b[90m━━━━━━━━━━━━━━━━━━━━━━━━━━━━━━━━━━━━━━━━\u001b[0m \u001b[32m834.7/834.7 kB\u001b[0m \u001b[31m8.3 MB/s\u001b[0m eta \u001b[36m0:00:00\u001b[0m\n",
      "\u001b[?25hInstalling collected packages: pypinyin\n",
      "Successfully installed pypinyin-0.53.0\n",
      "Note: you may need to restart the kernel to use updated packages.\n",
      "pypinyin installed\n"
     ]
    }
   ],
   "source": [
    "install_pypinyin = False\n",
    "if install_pypinyin:\n",
    "    %pip install pypinyin\n",
    "    print(\"pypinyin installed\")"
   ]
  },
  {
   "cell_type": "code",
   "execution_count": 22,
   "metadata": {},
   "outputs": [
    {
     "name": "stdout",
     "output_type": "stream",
     "text": [
      "['刘军', '霍东杙', '董维龙', '孙金鹿', '徐家恒', '张喜凤', '刘伯林']\n",
      "['11', '11', '11', '11', '11', '10', '10']\n",
      "{'刘军': '11', '霍东杙': '11', '董维龙': '11', '孙金鹿': '11', '徐家恒': '11', '张喜凤': '10', '刘伯林': '10'}\n"
     ]
    }
   ],
   "source": [
    "# list of all the files end by nii.gz in the directory\n",
    "import os\n",
    "\n",
    "ivim_path = '/data/users/cyang/acute_pancreatitis/unprocess/bval/ivimap_9_patients/static_IVIM'\n",
    "\n",
    "from ivim_analysis.utils.patient_name_parse import extract_patient_and_b_values,chinese_to_pinyin\n",
    "\n",
    "patient_num_b_dict = extract_patient_and_b_values(ivim_path)\n",
    "patient = list(patient_num_b_dict.keys())\n",
    "num_b = list(patient_num_b_dict.values())\n",
    "print(patient)\n",
    "print(num_b)\n",
    "print(patient_num_b_dict)"
   ]
  },
  {
   "cell_type": "code",
   "execution_count": 23,
   "metadata": {},
   "outputs": [
    {
     "name": "stdout",
     "output_type": "stream",
     "text": [
      "['LiuJun', 'HuoDongYi', 'DongWeiLong', 'SunJinLu', 'XuJiaHeng', 'ZhangXiFeng', 'LiuBoLin']\n"
     ]
    }
   ],
   "source": [
    "import os\n",
    "\n",
    "# List of Chinese names\n",
    "# chinese_names = ['杨诚', '李雷', '韩梅梅']\n",
    "chinese_names = patient\n",
    "\n",
    "# Convert each name to Pinyin\n",
    "pinyin_names = [chinese_to_pinyin(name) for name in chinese_names]\n",
    "\n",
    "print(pinyin_names)  # Output: ['YangCheng', 'LiLei', 'HanMeiMei']\n",
    "\n",
    "# Create a dictionary with Chinese names as keys and Pinyin names as values\n",
    "name_dict = dict(zip(chinese_names, pinyin_names))\n"
   ]
  },
  {
   "cell_type": "code",
   "execution_count": 24,
   "metadata": {},
   "outputs": [],
   "source": [
    "# Save the dictionary to a json file\n",
    "import json\n",
    "output_path = '../data'\n",
    "\n",
    "file = 'name_dict.json'\n",
    "output_file = os.path.join(output_path, file)\n",
    "\n",
    "with open(output_file, 'w') as f:\n",
    "    json.dump(name_dict, f)"
   ]
  },
  {
   "cell_type": "code",
   "execution_count": 25,
   "metadata": {},
   "outputs": [
    {
     "name": "stdout",
     "output_type": "stream",
     "text": [
      "{'刘军': 'LiuJun', '霍东杙': 'HuoDongYi', '董维龙': 'DongWeiLong', '孙金鹿': 'SunJinLu', '徐家恒': 'XuJiaHeng', '张喜凤': 'ZhangXiFeng', '刘伯林': 'LiuBoLin'}\n"
     ]
    }
   ],
   "source": [
    "# Read the dictionary from the json file\n",
    "with open(output_file, 'r') as f:\n",
    "    name_dict_read = json.load(f)\n",
    "    \n",
    "# Print the dictionary\n",
    "print(name_dict_read)"
   ]
  }
 ],
 "metadata": {
  "kernelspec": {
   "display_name": "dipy",
   "language": "python",
   "name": "python3"
  },
  "language_info": {
   "codemirror_mode": {
    "name": "ipython",
    "version": 3
   },
   "file_extension": ".py",
   "mimetype": "text/x-python",
   "name": "python",
   "nbconvert_exporter": "python",
   "pygments_lexer": "ipython3",
   "version": "3.9.19"
  }
 },
 "nbformat": 4,
 "nbformat_minor": 2
}
